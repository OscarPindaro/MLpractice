{
 "cells": [
  {
   "cell_type": "markdown",
   "metadata": {},
   "source": [
    "#  Classification"
   ]
  },
  {
   "cell_type": "code",
   "execution_count": 1,
   "metadata": {},
   "outputs": [],
   "source": [
    "import numpy as np\n",
    "import matplotlib.pyplot as plt\n",
    "import random as rand"
   ]
  },
  {
   "cell_type": "code",
   "execution_count": 2,
   "metadata": {},
   "outputs": [
    {
     "data": {
      "image/png": "[encoded data removed]",
      "text/plain": [
       "<Figure size 432x288 with 1 Axes>"
      ]
     },
     "metadata": {
      "needs_background": "light"
     },
     "output_type": "display_data"
    }
   ],
   "source": [
    "class1 = np.random.rand(100) +np.full(100, 3.5)\n",
    "class2 = np.random.rand(100) + np.full(100, 5.5)\n",
    "x = np.arange(0,100)\n",
    "plt.plot(x, class1, \"o\")\n",
    "plt.plot(x, class2, \"o\")\n",
    "plt.show()"
   ]
  },
  {
   "cell_type": "markdown",
   "metadata": {},
   "source": [
    "## Perceptron"
   ]
  },
  {
   "cell_type": "markdown",
   "metadata": {},
   "source": [
    "Now i want to create a \"dataset\", where the data of the 2 classes are shuffled, and there's a column with the class labels."
   ]
  },
  {
   "cell_type": "code",
   "execution_count": 19,
   "metadata": {},
   "outputs": [],
   "source": [
    "a = np.append(class1, np.ones(100)).reshape(2, 100).transpose()\n",
    "b = np.append(class2, np.full(100, -1)).reshape(2,100).transpose()\n"
   ]
  },
  {
   "cell_type": "code",
   "execution_count": 20,
   "metadata": {},
   "outputs": [],
   "source": [
    "dataset = np.append(a, b).reshape(200,2)\n",
    "np.random.shuffle(dataset)"
   ]
  },
  {
   "cell_type": "code",
   "execution_count": 21,
   "metadata": {
    "scrolled": false
   },
   "outputs": [],
   "source": [
    "\"\"\"%matplotlib notebook\n",
    "\n",
    "fig = plt.figure()\n",
    "ax = fig.add_subplot(111)\n",
    "plt.ion()\n",
    "\n",
    "fig.show()\n",
    "fig.canvas.draw()\n",
    "\n",
    "def drawPlane(ax, class1, class2, w):\n",
    "    x = np.arange(0,100)\n",
    "    ax.clear()\n",
    "    low = 0\n",
    "    high = 100\n",
    "    plt.xlim(-1, 101), plt.ylim(np.min(dataset[:,0]) - 0.5, np.max(dataset[:,0] + 0.5))\n",
    "    ax.plot(x, class1, \"o\")\n",
    "    ax.plot(x, class2, \"o\")\n",
    "    if( w[1] != 0):\n",
    "        ax.plot([low, high], [ -w[0]/w[1], -w[0]/w[1]])\n",
    "    fig.canvas.draw()\n",
    "    plt.pause(0.1)\n",
    "\"\"\"\n",
    "\n",
    "def perceptronLoop(dataset, iters):\n",
    "    w = np.zeros(2) #w0 and w1\n",
    "    w[0] = 1\n",
    "    k = 0\n",
    "    while(k < iters):\n",
    "        n = k % dataset.shape[0]\n",
    "        x = dataset[n][0]\n",
    "        c = dataset[n][1]\n",
    "\n",
    "        if (w[0] + w[1]*x)*(c) <0:\n",
    "            w[1:] = w[1:] + x*c\n",
    "            w[0] = w[0] + c\n",
    "        k = k+1\n",
    "        #drawPlane(ax, class1, class2, w)\n",
    "    return w    "
   ]
  },
  {
   "cell_type": "code",
   "execution_count": 22,
   "metadata": {},
   "outputs": [
    {
     "name": "stdout",
     "output_type": "stream",
     "text": [
      "[ 2.         -0.37574984]\n"
     ]
    }
   ],
   "source": [
    "w = perceptronLoop(dataset, 1000)\n",
    "print(w)"
   ]
  },
  {
   "cell_type": "code",
   "execution_count": 23,
   "metadata": {},
   "outputs": [
    {
     "data": {
      "image/png": "[encoded data removed]",
      "text/plain": [
       "<Figure size 432x288 with 1 Axes>"
      ]
     },
     "metadata": {
      "needs_background": "light"
     },
     "output_type": "display_data"
    }
   ],
   "source": [
    "low = 0\n",
    "high = 100\n",
    "plt.xlim(-1, 101), plt.ylim(np.min(dataset[:,0]) - 0.5, np.max(dataset[:,0] + 0.5))\n",
    "plt.plot(x, class1, \"o\")\n",
    "plt.plot(x, class2, \"o\")\n",
    "plt.plot([low, high], [-w[0]/w[1], -w[0]/w[1]])\n",
    "plt.show()"
   ]
  },
  {
   "cell_type": "code",
   "execution_count": null,
   "metadata": {},
   "outputs": [],
   "source": []
  }
 ],
 "metadata": {
  "kernelspec": {
   "display_name": "Python 3",
   "language": "python",
   "name": "python3"
  },
  "language_info": {
   "codemirror_mode": {
    "name": "ipython",
    "version": 3
   },
   "file_extension": ".py",
   "mimetype": "text/x-python",
   "name": "python",
   "nbconvert_exporter": "python",
   "pygments_lexer": "ipython3",
   "version": "3.8.5"
  }
 },
 "nbformat": 4,
 "nbformat_minor": 4
}
